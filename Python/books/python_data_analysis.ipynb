{
 "cells": [
  {
   "cell_type": "markdown",
   "metadata": {},
   "source": [
    "# Standard Process\n",
    "1. Collecting Data\n",
    "</br></t>Collect and gather data from several sources\n",
    "2. Preprocessing Data\n",
    "</br></t>Filter, clean, and transform data into required format\n",
    "3. Analyzing and Finding Insights\n",
    "</br></t>Explore, describe, and visualize the data for insights and conclusions\n",
    "4. Insights Interpretations\n",
    "</br></t>Understand the insights and the impact each variable has\n",
    "5. Storytelling\n",
    "</br></t>Communicate results in the form of a story in simple-terms"
   ]
  },
  {
   "cell_type": "markdown",
   "metadata": {},
   "source": [
    "# Data mining (Knowledge Discovery in Databases)\n",
    "1. Data Cleaning\n",
    "</br></t>Preprocess data. I.e. Remove noise, handle missing values, detect outliers\n",
    "2. Data Integration\n",
    "</br></t>Combine and integrate data from different sources using data migration and ETL tools\n",
    "3. Data Selection\n",
    "</br></t>Recollect relevant data for the upcoming analysis tasks\n",
    "4. Data Transformation\n",
    "</br></t>Engineer data into the requried form\n",
    "5. Data Mining\n",
    "</br></t>Apply data mining techniques to discover useful and uknown patterns\n",
    "6. Pattern Evaluation\n",
    "</br></t>Evaluate extracted patterns\n",
    "7. Knowledge Presentation\n",
    "</br></t>Visualize and present extracted knowledge for decision-making purposes"
   ]
  },
  {
   "cell_type": "markdown",
   "metadata": {},
   "source": [
    "# SEMMA\n",
    "Sample, Explore, Modify, Model, Asses\n",
    "1. Sample\n",
    "</br></t>Identify different databases and merge them. Then, select a data sample\n",
    "</br></t>that's sufficient for the modeling process\n",
    "2. Explore \n",
    "</br></t>Discover relationships among variables, visualize data, and get initial interpretations\n",
    "3. Modify\n",
    "</br></t>Prepare data for modeling. I.e. Deal with missing values, detect outliers,\n",
    "</br></t>transform features, and create new features\n",
    "4. Model\n",
    "</br></t>Select and apply different modeling techniques. I.e. linear/lgoistic regression,\n",
    "</br></t>backpropagation networks, KNN, support vector machines, decision trees, and Random Forest\n",
    "5. Assess\n",
    "</br></t>Evaluate models with the appropriate evaluation measures"
   ]
  },
  {
   "cell_type": "markdown",
   "metadata": {},
   "source": [
    "# CRISP-DM\n",
    "1. Business Understanding\n",
    "</br></t>Understand the business scenario and requirements for designing an\n",
    "</br></t>analytical goal and initial action plan\n",
    "2. Data Understanding\n",
    "</br></t>Understand the data and its collection process, perform data quality checks,\n",
    "</br></t>and gain initial insights\n",
    "3. Data Preparation\n",
    "</br></t>Prepare data for analytics. Handle missing values, detect and handle outliers,\n",
    "</br></t>normalize data, and feature engineer. Most time consuming\n",
    "4. Modeling\n",
    "</br></t>Decide and apply a modeling technique based on the data and objective\n",
    "5. Evaluation\n",
    "</br></t>Assess and test the model's performance on validation and test data.\n",
    "</br></t>Apply the appropriate model evaluation measures. I.e. MSE, RMSE,\n",
    "</br></t>R-Square for regression and accuracy, precision, recall, and F1\n",
    "6. Deployment\n",
    "</br></t>Deploy the chosen model into the production environment. Team effort"
   ]
  },
  {
   "cell_type": "markdown",
   "metadata": {},
   "source": [
    "# Data Types\n",
    "* Categorical\n",
    "</br></t>Nominal\n",
    "</br></t></t>Names/labels of categorized variables in an unordered fashion\n",
    "</br></t>Ordinal\n",
    "</br></t></t>Names/labels of categorized variables in an ordered fashion\n",
    "* Numerical\n",
    "</br></t>Discrete\n",
    "</br></t></t>A countable finite number\n",
    "</br></t>Continuous\n",
    "</br></t></t>Non-countable and infinite number\n"
   ]
  },
  {
   "cell_type": "markdown",
   "metadata": {},
   "source": [
    "# Types of Data\n",
    "* **Categorical**\n",
    "<br><t>**Nominal**\n",
    "<br><t></t><t>Names/labels for values. Unordered in nature. Calculating mode may be useful\n",
    "<br><t>**Ordinal**\n",
    "<br><t><t>Names/labels for values. Ordered in nature, but unknown magnitude. Calculating\n",
    "<br><t><t>mode and median may be useful\n",
    "* **Numerical**\n",
    "<br><t>**Discrete**\n",
    "<br><t></t><t>Sets that are countable and finite. Can have an interval/ratio scale. \n",
    "<br><t>**Continuous**\n",
    "<br><t></t><t>Sets that are not countable and can have an infinite number of values."
   ]
  },
  {
   "cell_type": "markdown",
   "metadata": {},
   "source": [
    "# Central Tendency\n",
    "The trend of values clustered around the averages such as the mean, mode, and \n",
    "<br>median values. \n",
    "* Mean: Sum of observations/number of observations\n",
    "* Mode: Highest occuring observation\n",
    "* Median: Mid-point observation in a group of observations. Also known as the 50th percentile"
   ]
  },
  {
   "cell_type": "markdown",
   "metadata": {},
   "source": [
    "# Dispersion\n",
    "* Range\n",
    "<br><t>Difference between the maximum and minimum values of the observations\n",
    "* IQR (Inter-Quartile-Range)\n",
    "<br><t>Difference between the third and first quartiles. Contains 50% of the observations.\n",
    "* Variance \n",
    "<br><t>The deviation from the mean. The average value of the squared difference between\n",
    "<br><t>the observation and the mean. \n",
    "<br><t>$\\sum_{i=1}^{N}(x_i - \\overline{x})^2$\n",
    "* Standard deviation\n",
    "<br><t>Square root of the variance. Easier to evaluation the exact deviation from the mean."
   ]
  },
  {
   "cell_type": "markdown",
   "metadata": {},
   "source": [
    "# Skewness\n",
    "Measures the symmetry of a distribution.\n",
    "* Right-Tailed (Positive Skewness): Tail at the right. Mean > Median\n",
    "* Left-Tailed (Negative Skewness): Tail at the left. Mean < Median\n",
    "* Kurtosis: Measures tailedness (tail thickness) compared to a normal distribution.\n",
    "<br><t>Can have zero, negative (thin-tailed), or positive(>3 and fat-tailed) value.\n",
    "<br>\n",
    "* Zero Kurtosis -> Mesokurtic\n",
    "* Negative Kurtosis + Thin-Tailed -> Platykurtic\n",
    "* Kurtosis>3 + Fat-Tailed -> Leptokurtic"
   ]
  },
  {
   "cell_type": "markdown",
   "metadata": {},
   "source": [
    "# Correlation Coefficients\n",
    "* Pearson\n",
    "<br><t>\"Standard\"\n",
    "* Kendall\n",
    "<br><t>Non-parametric measure for rank correlation. Use when data is skewed or\n",
    "<br><t>an outlier is affected since it doesn't have any assumptions for data \n",
    "<br><t>distribution.\n",
    "* Spearman\n",
    "<br><t>Non-parametric measure to measure association between two ordinal variables.\n",
    "<br><t>If both variables are binary, then Pearson=Spearman=Kendall."
   ]
  },
  {
   "cell_type": "markdown",
   "metadata": {},
   "source": [
    "# Central Limit Theorem\n",
    "The sampling distribution approaches a normal distribution with an increase in size.\n",
    "The mean of the sample distributions approaches the population mean and \n",
    "the standard deviation of the means decreases."
   ]
  },
  {
   "cell_type": "markdown",
   "metadata": {},
   "source": [
    "# Probability Sampling Methods\n",
    "* Simple Random Sampling\n",
    "<br><t>Select by chance.\n",
    "* Stratified Sampling\n",
    "<br><t>Select a sample based on similarity criteria. Improves accuracy by reducing selection bias.\n",
    "* Systematic Sampling\n",
    "<br><t>Select at regular intervals (every nth value)\n",
    "* Cluster Sampling\n",
    "<br><t>Select by dividing population into clusters based on criteria. The entire cluster is used for sampling.\n",
    "\n",
    "# Non-probability Sampling Methods\n",
    "* Convenience Sampling\n",
    "<br><t>Select based on availibility and willingness. Prone to volunteer bias.\n",
    "* Purposive Sampling\n",
    "<br><t>Select based on the statistician's judgement of who will participate. I.e.\n",
    "<br><t>News Reporters choosing people whose opinions they want.\n",
    "* Quota Sampling\n",
    "<br><t>Select based on predefined proportions until they are met. Selects items in strata using random sampling\n",
    "* Snowball Sampling\n",
    "<br><t>Select on referral when respondents are difficult to find and trace."
   ]
  },
  {
   "cell_type": "markdown",
   "metadata": {},
   "source": []
  }
 ],
 "metadata": {
  "kernelspec": {
   "display_name": "Python 3.10.4 ('updated')",
   "language": "python",
   "name": "python3"
  },
  "language_info": {
   "codemirror_mode": {
    "name": "ipython",
    "version": 3
   },
   "file_extension": ".py",
   "mimetype": "text/x-python",
   "name": "python",
   "nbconvert_exporter": "python",
   "pygments_lexer": "ipython3",
   "version": "3.10.4"
  },
  "orig_nbformat": 4,
  "vscode": {
   "interpreter": {
    "hash": "60c31c2418e11a1ea5e74811c13c7cd65159d5f4bb1d07ff0084657bded7dcb8"
   }
  }
 },
 "nbformat": 4,
 "nbformat_minor": 2
}
