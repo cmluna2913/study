{
 "cells": [
  {
   "cell_type": "markdown",
   "metadata": {},
   "source": [
    "# Standard Process\n",
    "1. Collecting Data\n",
    "</br></t>Collect and gather data from several sources\n",
    "2. Preprocessing Data\n",
    "</br></t>Filter, clean, and transform data into required format\n",
    "3. Analyzing and Finding Insights\n",
    "</br></t>Explore, describe, and visualize the data for insights and conclusions\n",
    "4. Insights Interpretations\n",
    "</br></t>Understand the insights and the impact each variable has\n",
    "5. Storytelling\n",
    "</br></t>Communicate results in the form of a story in simple-terms"
   ]
  },
  {
   "cell_type": "markdown",
   "metadata": {},
   "source": [
    "# Data mining (Knowledge Discovery in Databases)\n",
    "1. Data Cleaning\n",
    "</br></t>Preprocess data. I.e. Remove noise, handle missing values, detect outliers\n",
    "2. Data Integration\n",
    "</br></t>Combine and integrate data from different sources using data migration and ETL tools\n",
    "3. Data Selection\n",
    "</br></t>Recollect relevant data for the upcoming analysis tasks\n",
    "4. Data Transformation\n",
    "</br></t>Engineer data into the requried form\n",
    "5. Data Mining\n",
    "</br></t>Apply data mining techniques to discover useful and uknown patterns\n",
    "6. Pattern Evaluation\n",
    "</br></t>Evaluate extracted patterns\n",
    "7. Knowledge Presentation\n",
    "</br></t>Visualize and present extracted knowledge for decision-making purposes"
   ]
  },
  {
   "cell_type": "markdown",
   "metadata": {},
   "source": [
    "# SEMMA\n",
    "Sample, Explore, Modify, Model, Asses\n",
    "1. Sample\n",
    "</br></t>Identify different databases and merge them. Then, select a data sample\n",
    "</br></t>that's sufficient for the modeling process\n",
    "2. Explore \n",
    "</br></t>Discover relationships among variables, visualize data, and get initial interpretations\n",
    "3. Modify\n",
    "</br></t>Prepare data for modeling. I.e. Deal with missing values, detect outliers,\n",
    "</br></t>transform features, and create new features\n",
    "4. Model\n",
    "</br></t>Select and apply different modeling techniques. I.e. linear/lgoistic regression,\n",
    "</br></t>backpropagation networks, KNN, support vector machines, decision trees, and Random Forest\n",
    "5. Assess\n",
    "</br></t>Evaluate models with the appropriate evaluation measures"
   ]
  },
  {
   "cell_type": "markdown",
   "metadata": {},
   "source": [
    "# CRISP-DM\n",
    "1. Business Understanding\n",
    "</br></t>Understand the business scenario and requirements for designing an\n",
    "</br></t>analytical goal and initial action plan\n",
    "2. Data Understanding\n",
    "</br></t>Understand the data and its collection process, perform data quality checks,\n",
    "</br></t>and gain initial insights\n",
    "3. Data Preparation\n",
    "</br></t>Prepare data for analytics. Handle missing values, detect and handle outliers,\n",
    "</br></t>normalize data, and feature engineer. Most time consuming\n",
    "4. Modeling\n",
    "</br></t>Decide and apply a modeling technique based on the data and objective\n",
    "5. Evaluation\n",
    "</br></t>Assess and test the model's performance on validation and test data.\n",
    "</br></t>Apply the appropriate model evaluation measures. I.e. MSE, RMSE,\n",
    "</br></t>R-Square for regression and accuracy, precision, recall, and F1\n",
    "6. Deployment\n",
    "</br></t>Deploy the chosen model into the production environment. Team effort"
   ]
  },
  {
   "cell_type": "markdown",
   "metadata": {},
   "source": [
    "# Data Types\n",
    "* Categorical\n",
    "</br></t>Nominal\n",
    "</br></t></t>Names/labels of categorized variables in an unordered fashion\n",
    "</br></t>Ordinal\n",
    "</br></t></t>Names/labels of categorized variables in an ordered fashion\n",
    "* Numerical\n",
    "</br></t>Discrete\n",
    "</br></t></t>A countable finite number\n",
    "</br></t>Continuous\n",
    "</br></t></t>Non-countable and infinite number\n"
   ]
  },
  {
   "cell_type": "markdown",
   "metadata": {},
   "source": [
    "# Central Tendency\n",
    "The trend of values clustered around the averages such as the mean, mode, and median values"
   ]
  },
  {
   "cell_type": "markdown",
   "metadata": {},
   "source": []
  }
 ],
 "metadata": {
  "interpreter": {
   "hash": "353c56a943bb497e016a94d8a1ac26c4a7809e4570f955351d684409db005ce6"
  },
  "kernelspec": {
   "display_name": "Python 3.8.12 ('base')",
   "language": "python",
   "name": "python3"
  },
  "language_info": {
   "codemirror_mode": {
    "name": "ipython",
    "version": 3
   },
   "file_extension": ".py",
   "mimetype": "text/x-python",
   "name": "python",
   "nbconvert_exporter": "python",
   "pygments_lexer": "ipython3",
   "version": "3.8.12"
  },
  "orig_nbformat": 4
 },
 "nbformat": 4,
 "nbformat_minor": 2
}
