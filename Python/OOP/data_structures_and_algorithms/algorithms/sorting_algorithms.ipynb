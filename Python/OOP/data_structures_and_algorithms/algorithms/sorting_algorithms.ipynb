{
 "cells": [
  {
   "cell_type": "markdown",
   "source": [
    "Prints unsorted array and sorted array for each new function"
   ],
   "metadata": {}
  },
  {
   "cell_type": "code",
   "execution_count": 81,
   "source": [
    "def results(arr, function):\r\n",
    "    print('Starting:', arr)\r\n",
    "    function(arr)\r\n",
    "    print('Result:', arr)"
   ],
   "outputs": [],
   "metadata": {}
  },
  {
   "cell_type": "markdown",
   "source": [
    "# Selection Sort\n",
    "Sort an array by finding the minimum element of a subarray and moving it to the front. There are always two subarrays for the given array:\n",
    "1) The sorted subarray <br>\n",
    "2) The remaining, unsorted subarray"
   ],
   "metadata": {}
  },
  {
   "cell_type": "code",
   "execution_count": 18,
   "source": [
    "def selection_sort(arr):\r\n",
    "    # traverse through all array elements\r\n",
    "    for i in range(len(arr)):\r\n",
    "        # Find the minimum element in remaining\r\n",
    "        # unsorted array\r\n",
    "        min_idx = i\r\n",
    "        for j in range(i+1, len(arr)):\r\n",
    "            if arr[min_idx] > arr[j]:\r\n",
    "                min_idx = j\r\n",
    "        #sawp the found minimum element with\r\n",
    "        #the first element\r\n",
    "        arr[i], arr[min_idx] = arr[min_idx], arr[i]\r\n",
    "    #array is sorted, does not need to be returned"
   ],
   "outputs": [],
   "metadata": {}
  },
  {
   "cell_type": "code",
   "execution_count": 82,
   "source": [
    "results([64, 25, 12, 22, 11], selection_sort)"
   ],
   "outputs": [
    {
     "output_type": "stream",
     "name": "stdout",
     "text": [
      "Starting: [64, 25, 12, 22, 11]\n",
      "Result: [11, 12, 22, 25, 64]\n"
     ]
    }
   ],
   "metadata": {}
  },
  {
   "cell_type": "markdown",
   "source": [
    "# Bubble Sort\n",
    "Repeatedly swap adjacent elements if they are in the wrong order"
   ],
   "metadata": {}
  },
  {
   "cell_type": "code",
   "execution_count": 22,
   "source": [
    "def bubble_sort(arr):\r\n",
    "    n = len(arr)\r\n",
    "    # traverse through all elementns\r\n",
    "    for i in range(n):\r\n",
    "        # last i elements are already in place\r\n",
    "        for j in range(0, n-i-1):\r\n",
    "            # traverse the array from 0 to n-i-1\r\n",
    "            # swap if the element found is greater\r\n",
    "            # than the next element\r\n",
    "            if arr[j] > arr[j+1]:\r\n",
    "                arr[j], arr[j+1] = arr[j+1], arr[j]"
   ],
   "outputs": [],
   "metadata": {}
  },
  {
   "cell_type": "code",
   "execution_count": 83,
   "source": [
    "results([64, 34, 25, 12, 22, 90, 11], bubble_sort)"
   ],
   "outputs": [
    {
     "output_type": "stream",
     "name": "stdout",
     "text": [
      "Starting: [64, 34, 25, 12, 22, 90, 11]\n",
      "Result: [11, 12, 22, 25, 34, 64, 90]\n"
     ]
    }
   ],
   "metadata": {}
  },
  {
   "cell_type": "code",
   "execution_count": 72,
   "source": [
    "def bubble_sort_optimized(arr):\r\n",
    "    n = len(arr)\r\n",
    "    # traverse through all array elements\r\n",
    "    for i in range(n):\r\n",
    "        swapped = False\r\n",
    "        # last i elements are already in place\r\n",
    "        for j in range(0, n-i-1):\r\n",
    "            # traverse the array from 0 to n-i-1\r\n",
    "            # swap if the element found is greater\r\n",
    "            # than the next element\r\n",
    "            if arr[j] > arr[j+1]:\r\n",
    "                arr[j], arr[j+1] = arr[j+1], arr[j]\r\n",
    "                swapped = True\r\n",
    "        # if no two elements were swapped by\r\n",
    "        # the inner loop, then break\r\n",
    "        if swapped == False:\r\n",
    "            break"
   ],
   "outputs": [],
   "metadata": {}
  },
  {
   "cell_type": "code",
   "execution_count": 85,
   "source": [
    "results([64, 34, 25, 12, 22, 90, 11],\r\n",
    "        bubble_sort_optimized)"
   ],
   "outputs": [
    {
     "output_type": "stream",
     "name": "stdout",
     "text": [
      "Starting: [64, 34, 25, 12, 22, 90, 11]\n",
      "Result: [11, 12, 22, 25, 34, 64, 90]\n"
     ]
    }
   ],
   "metadata": {}
  },
  {
   "cell_type": "markdown",
   "source": [
    "# Insertion Sort\n",
    "Split the array into sorted and unsorted parts. Values from the unsorted part are picked and placed at the correct position in the sorted part. <br>\n",
    "**Algorithm** <br>\n",
    "To sort an array of size n in ascending order:\n",
    "1) Iterated from arr[1] to arr[n] over the array <br>\n",
    "2) Compare the current element(key) to its predecessor <br>\n",
    "3) If the element is smaller than its predecessor, compare it ot the elements before. Move the greater elements one position up to make space for the swapped element"
   ],
   "metadata": {}
  },
  {
   "cell_type": "code",
   "execution_count": 73,
   "source": [
    "def insertion_sort(arr):\r\n",
    "    # traverse from 1 to len(arr)\r\n",
    "    for i in range(1, len(arr)):\r\n",
    "        key = arr[i]\r\n",
    "        # move elements of arr[0, ..., i=1]\r\n",
    "        # that are greater than key, to one\r\n",
    "        # position ahead of their current position\r\n",
    "        j = i-1\r\n",
    "        while j >= 0 and key < arr[j]:\r\n",
    "            arr[j+1] = arr[j]\r\n",
    "            j -= 1\r\n",
    "        arr[j+1] = key"
   ],
   "outputs": [],
   "metadata": {}
  },
  {
   "cell_type": "code",
   "execution_count": 80,
   "source": [
    "results([12, 11, 13, 5, 6], insertion_sort)"
   ],
   "outputs": [
    {
     "output_type": "stream",
     "name": "stdout",
     "text": [
      "Starting: [12, 11, 13, 5, 6]\n",
      "Result: [5, 6, 11, 12, 13]\n"
     ]
    }
   ],
   "metadata": {}
  },
  {
   "cell_type": "markdown",
   "source": [
    "# Quick Sort"
   ],
   "metadata": {}
  },
  {
   "cell_type": "code",
   "execution_count": 86,
   "source": [
    "def partition(start, end, array):\r\n",
    "    # inititalize pivot's index to start\r\n",
    "    pivot_index = start\r\n",
    "    pivot = array[pivot_index]\r\n",
    "    # Run loop until start pointer crosses\r\n",
    "    # with end pointer, and when it does then\r\n",
    "    # swap the pivot with element on end pointer\r\n",
    "    while start < end:\r\n",
    "        # increment the start pointer until it finds\r\n",
    "        # an element greater than pivot\r\n",
    "        while start < len(array) and array[start] <= pivot:\r\n",
    "            start += 1\r\n",
    "        # decrement the end pointer until it finds\r\n",
    "        # an element less than pivot\r\n",
    "        while array[end] > pivot:\r\n",
    "            end -= 1\r\n",
    "        # if start and end have not crossed each other,\r\n",
    "        # swap the  numbers on start and end\r\n",
    "        if(start < end):\r\n",
    "            array[start], array[end] = array[end], array[start]\r\n",
    "    # swap pivot element with element on end pointer\r\n",
    "    # this puts pivot on its correct sorted place\r\n",
    "    array[end], array[pivot_index] = array[pivot_index], array[end]\r\n",
    "    # return end point to divide the array into 2\r\n",
    "    return end\r\n",
    "\r\n",
    "def quick_sort(start, end, array):\r\n",
    "    if (start < end):\r\n",
    "        # p is a partitioning index, array[p]\r\n",
    "        # is at right place\r\n",
    "        p = partition(start, end, array)\r\n",
    "        # sort elements before partition\r\n",
    "        # and after partition\r\n",
    "        quick_sort(start, p-1, array)\r\n",
    "        quick_sort(p+1, end, array)"
   ],
   "outputs": [],
   "metadata": {}
  },
  {
   "cell_type": "code",
   "execution_count": 89,
   "source": [
    "arr = [ 10, 7, 8, 9, 1, 5 ]\r\n",
    "print(arr)\r\n",
    "quick_sort(0, len(arr)-1, arr)\r\n",
    "print(arr)"
   ],
   "outputs": [
    {
     "output_type": "stream",
     "name": "stdout",
     "text": [
      "[10, 7, 8, 9, 1, 5]\n",
      "[1, 5, 7, 8, 9, 10]\n"
     ]
    }
   ],
   "metadata": {}
  },
  {
   "cell_type": "markdown",
   "source": [
    "# Merge Sort"
   ],
   "metadata": {}
  },
  {
   "cell_type": "code",
   "execution_count": 93,
   "source": [
    "def merge_sort(arr):\r\n",
    "    if len(arr) > 1:\r\n",
    "        # find the mid of the array\r\n",
    "        mid = len(arr)//2 # is a floor division\r\n",
    "        # dividing the array elements\r\n",
    "        L = arr[:mid]\r\n",
    "        #into 2 halves\r\n",
    "        R = arr[mid:]\r\n",
    "        # sorting the first half\r\n",
    "        merge_sort(L)\r\n",
    "        # sorting the second half\r\n",
    "        merge_sort(R)\r\n",
    "        i = j = k = 0\r\n",
    "        while i<len(L) and j<len(R):\r\n",
    "            if L[i]<R[j]:\r\n",
    "                arr[k]=L[i]\r\n",
    "                i+=1\r\n",
    "            else:\r\n",
    "                arr[k]=R[j]\r\n",
    "                j+=1\r\n",
    "            k+=1\r\n",
    "        # checking if any element was left\r\n",
    "        while i<len(L):\r\n",
    "            arr[k] = L[i]\r\n",
    "            i+=1\r\n",
    "            k+=1\r\n",
    "        while j<len(R):\r\n",
    "            arr[k]=R[j]\r\n",
    "            j+=1\r\n",
    "            k+=1"
   ],
   "outputs": [],
   "metadata": {}
  },
  {
   "cell_type": "code",
   "execution_count": 94,
   "source": [
    "results([12, 11, 13, 5, 6, 7], merge_sort)"
   ],
   "outputs": [
    {
     "output_type": "stream",
     "name": "stdout",
     "text": [
      "Starting: [12, 11, 13, 5, 6, 7]\n",
      "Result: [5, 6, 7, 11, 12, 13]\n"
     ]
    }
   ],
   "metadata": {}
  },
  {
   "cell_type": "markdown",
   "source": [
    "# Heap Sort"
   ],
   "metadata": {}
  },
  {
   "cell_type": "code",
   "execution_count": null,
   "source": [],
   "outputs": [],
   "metadata": {}
  },
  {
   "cell_type": "markdown",
   "source": [
    "# Radix Sort"
   ],
   "metadata": {}
  },
  {
   "cell_type": "code",
   "execution_count": null,
   "source": [],
   "outputs": [],
   "metadata": {}
  }
 ],
 "metadata": {
  "kernelspec": {
   "name": "python3",
   "display_name": "Python 3.8.10 64-bit ('base': conda)"
  },
  "language_info": {
   "codemirror_mode": {
    "name": "ipython",
    "version": 3
   },
   "file_extension": ".py",
   "mimetype": "text/x-python",
   "name": "python",
   "nbconvert_exporter": "python",
   "pygments_lexer": "ipython3",
   "version": "3.8.10"
  },
  "interpreter": {
   "hash": "353c56a943bb497e016a94d8a1ac26c4a7809e4570f955351d684409db005ce6"
  }
 },
 "nbformat": 4,
 "nbformat_minor": 4
}