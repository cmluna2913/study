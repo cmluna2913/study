{
 "cells": [
  {
   "cell_type": "code",
   "execution_count": 30,
   "metadata": {},
   "outputs": [],
   "source": [
    "import time"
   ]
  },
  {
   "cell_type": "code",
   "execution_count": 81,
   "metadata": {},
   "outputs": [],
   "source": [
    "def results(arr, function):\n",
    "    print('Starting:', arr)\n",
    "    function(arr)\n",
    "    print('Result:', arr)"
   ]
  },
  {
   "cell_type": "markdown",
   "metadata": {},
   "source": [
    "# Selection Sort\n",
    "Sort an array by finding the minimum element of a subarray and moving it to the front. There are always two subarrays for the given array:\n",
    "1) The sorted subarray <br>\n",
    "2) The remaining, unsorted subarray"
   ]
  },
  {
   "cell_type": "code",
   "execution_count": 18,
   "metadata": {},
   "outputs": [],
   "source": [
    "def selection_sort(arr):\n",
    "    # traverse through all array elements\n",
    "    for i in range(len(arr)):\n",
    "        # Find the minimum element in remaining\n",
    "        # unsorted array\n",
    "        min_idx = i\n",
    "        for j in range(i+1, len(arr)):\n",
    "            if arr[min_idx] > arr[j]:\n",
    "                min_idx = j\n",
    "        #sawp the found minimum element with\n",
    "        #the first element\n",
    "        arr[i], arr[min_idx] = arr[min_idx], arr[i]\n",
    "    #array is sorted, does not need to be returned"
   ]
  },
  {
   "cell_type": "code",
   "execution_count": 82,
   "metadata": {},
   "outputs": [
    {
     "name": "stdout",
     "output_type": "stream",
     "text": [
      "Starting: [64, 25, 12, 22, 11]\n",
      "Result: [11, 12, 22, 25, 64]\n"
     ]
    }
   ],
   "source": [
    "results([64, 25, 12, 22, 11], selection_sort)"
   ]
  },
  {
   "cell_type": "markdown",
   "metadata": {},
   "source": [
    "# Bubble Sort\n",
    "Repeatedly swap adjacent elements if they are in the wrong order"
   ]
  },
  {
   "cell_type": "code",
   "execution_count": 22,
   "metadata": {},
   "outputs": [],
   "source": [
    "def bubble_sort(arr):\n",
    "    n = len(arr)\n",
    "    # traverse through all elementns\n",
    "    for i in range(n):\n",
    "        # last i elements are already in place\n",
    "        for j in range(0, n-i-1):\n",
    "            # traverse the array from 0 to n-i-1\n",
    "            # swap if the element found is greater\n",
    "            # than the next element\n",
    "            if arr[j] > arr[j+1]:\n",
    "                arr[j], arr[j+1] = arr[j+1], arr[j]"
   ]
  },
  {
   "cell_type": "code",
   "execution_count": 83,
   "metadata": {},
   "outputs": [
    {
     "name": "stdout",
     "output_type": "stream",
     "text": [
      "Starting: [64, 34, 25, 12, 22, 90, 11]\n",
      "Result: [11, 12, 22, 25, 34, 64, 90]\n"
     ]
    }
   ],
   "source": [
    "results([64, 34, 25, 12, 22, 90, 11], bubble_sort)"
   ]
  },
  {
   "cell_type": "code",
   "execution_count": 72,
   "metadata": {},
   "outputs": [],
   "source": [
    "def bubble_sort_optimized(arr):\n",
    "    n = len(arr)\n",
    "    # traverse through all array elements\n",
    "    for i in range(n):\n",
    "        swapped = False\n",
    "        # last i elements are already in place\n",
    "        for j in range(0, n-i-1):\n",
    "            # traverse the array from 0 to n-i-1\n",
    "            # swap if the element found is greater\n",
    "            # than the next element\n",
    "            if arr[j] > arr[j+1]:\n",
    "                arr[j], arr[j+1] = arr[j+1], arr[j]\n",
    "                swapped = True\n",
    "        # if no two elements were swapped by\n",
    "        # the inner loop, then break\n",
    "        if swapped == False:\n",
    "            break"
   ]
  },
  {
   "cell_type": "code",
   "execution_count": 85,
   "metadata": {},
   "outputs": [
    {
     "name": "stdout",
     "output_type": "stream",
     "text": [
      "Starting: [64, 34, 25, 12, 22, 90, 11]\n",
      "Result: [11, 12, 22, 25, 34, 64, 90]\n"
     ]
    }
   ],
   "source": [
    "results([64, 34, 25, 12, 22, 90, 11],\n",
    "        bubble_sort_optimized)"
   ]
  },
  {
   "cell_type": "markdown",
   "metadata": {},
   "source": [
    "testing run times for fun"
   ]
  },
  {
   "cell_type": "code",
   "execution_count": 54,
   "metadata": {},
   "outputs": [],
   "source": [
    "import numpy as np\n",
    "import random\n",
    "import copy"
   ]
  },
  {
   "cell_type": "code",
   "execution_count": 69,
   "metadata": {},
   "outputs": [],
   "source": [
    "test = np.array(range(1000))\n",
    "random.shuffle(test)\n",
    "test2 = copy.deepcopy(test)"
   ]
  },
  {
   "cell_type": "code",
   "execution_count": 70,
   "metadata": {},
   "outputs": [
    {
     "name": "stdout",
     "output_type": "stream",
     "text": [
      "0.7695140838623047\n"
     ]
    }
   ],
   "source": [
    "start = time.time()\n",
    "bubble_sort_optimized(test)\n",
    "end = time.time()\n",
    "print(end-start)"
   ]
  },
  {
   "cell_type": "code",
   "execution_count": 71,
   "metadata": {},
   "outputs": [
    {
     "name": "stdout",
     "output_type": "stream",
     "text": [
      "0.7747151851654053\n"
     ]
    }
   ],
   "source": [
    "start = time.time()\n",
    "bubble_sort(test2)\n",
    "end = time.time()\n",
    "print(end-start)"
   ]
  },
  {
   "cell_type": "markdown",
   "metadata": {},
   "source": [
    "# Insertion Sort\n",
    "Split the array into sorted and unsorted parts. Values from the unsorted part are picked and placed at the correct position in the sorted part. <br>\n",
    "**Algorithm** <br>\n",
    "To sort an array of size n in ascending order:\n",
    "1) Iterated from arr[1] to arr[n] over the array <br>\n",
    "2) Compare the current element(key) to its predecessor <br>\n",
    "3) If the element is smaller than its predecessor, compare it ot the elements before. Move the greater elements one position up to make space for the swapped element"
   ]
  },
  {
   "cell_type": "code",
   "execution_count": 73,
   "metadata": {},
   "outputs": [],
   "source": [
    "def insertion_sort(arr):\n",
    "    # traverse from 1 to len(arr)\n",
    "    for i in range(1, len(arr)):\n",
    "        key = arr[i]\n",
    "        # move elements of arr[0, ..., i=1]\n",
    "        # that are greater than key, to one\n",
    "        # position ahead of their current position\n",
    "        j = i-1\n",
    "        while j >= 0 and key < arr[j]:\n",
    "            arr[j+1] = arr[j]\n",
    "            j -= 1\n",
    "        arr[j+1] = key"
   ]
  },
  {
   "cell_type": "code",
   "execution_count": 80,
   "metadata": {},
   "outputs": [
    {
     "name": "stdout",
     "output_type": "stream",
     "text": [
      "Starting: [12, 11, 13, 5, 6]\n",
      "Result: [5, 6, 11, 12, 13]\n"
     ]
    }
   ],
   "source": [
    "results([12, 11, 13, 5, 6], insertion_sort)"
   ]
  },
  {
   "cell_type": "markdown",
   "metadata": {},
   "source": [
    "# Quick Sort"
   ]
  },
  {
   "cell_type": "code",
   "execution_count": 86,
   "metadata": {},
   "outputs": [],
   "source": [
    "def partition(start, end, array):\n",
    "    # inititalize pivot's index to start\n",
    "    pivot_index = start\n",
    "    pivot = array[pivot_index]\n",
    "    # Run loop until start pointer crosses\n",
    "    # with end pointer, and when it does then\n",
    "    # swap the pivot with element on end pointer\n",
    "    while start < end:\n",
    "        # increment the start pointer until it finds\n",
    "        # an element greater than pivot\n",
    "        while start < len(array) and array[start] <= pivot:\n",
    "            start += 1\n",
    "        # decrement the end pointer until it finds\n",
    "        # an element less than pivot\n",
    "        while array[end] > pivot:\n",
    "            end -= 1\n",
    "        # if start and end have not crossed each other,\n",
    "        # swap the  numbers on start and end\n",
    "        if(start < end):\n",
    "            array[start], array[end] = array[end], array[start]\n",
    "    # swap pivot element with element on end pointer\n",
    "    # this puts pivot on its correct sorted place\n",
    "    array[end], array[pivot_index] = array[pivot_index], array[end]\n",
    "    # return end point to divide the array into 2\n",
    "    return end\n",
    "\n",
    "def quick_sort(start, end, array):\n",
    "    if (start < end):\n",
    "        # p is a partitioning index, array[p]\n",
    "        # is at right place\n",
    "        p = partition(start, end, array)\n",
    "        # sort elements before partition\n",
    "        # and after partition\n",
    "        quick_sort(start, p-1, array)\n",
    "        quick_sort(p+1, end, array)"
   ]
  },
  {
   "cell_type": "code",
   "execution_count": 89,
   "metadata": {},
   "outputs": [
    {
     "name": "stdout",
     "output_type": "stream",
     "text": [
      "[10, 7, 8, 9, 1, 5]\n",
      "[1, 5, 7, 8, 9, 10]\n"
     ]
    }
   ],
   "source": [
    "arr = [ 10, 7, 8, 9, 1, 5 ]\n",
    "print(arr)\n",
    "quick_sort(0, len(arr)-1, arr)\n",
    "print(arr)"
   ]
  },
  {
   "cell_type": "markdown",
   "metadata": {},
   "source": [
    "# Merge Sort"
   ]
  },
  {
   "cell_type": "code",
   "execution_count": 93,
   "metadata": {},
   "outputs": [],
   "source": [
    "def merge_sort(arr):\n",
    "    if len(arr) > 1:\n",
    "        # find the mid of the array\n",
    "        mid = len(arr)//2 # is a floor division\n",
    "        # dividing the array elements\n",
    "        L = arr[:mid]\n",
    "        #into 2 halves\n",
    "        R = arr[mid:]\n",
    "        # sorting the first half\n",
    "        merge_sort(L)\n",
    "        # sorting the second half\n",
    "        merge_sort(R)\n",
    "        i = j = k = 0\n",
    "        while i<len(L) and j<len(R):\n",
    "            if L[i]<R[j]:\n",
    "                arr[k]=L[i]\n",
    "                i+=1\n",
    "            else:\n",
    "                arr[k]=R[j]\n",
    "                j+=1\n",
    "            k+=1\n",
    "        # checking if any element was left\n",
    "        while i<len(L):\n",
    "            arr[k] = L[i]\n",
    "            i+=1\n",
    "            k+=1\n",
    "        while j<len(R):\n",
    "            arr[k]=R[j]\n",
    "            j+=1\n",
    "            k+=1"
   ]
  },
  {
   "cell_type": "code",
   "execution_count": 94,
   "metadata": {},
   "outputs": [
    {
     "name": "stdout",
     "output_type": "stream",
     "text": [
      "Starting: [12, 11, 13, 5, 6, 7]\n",
      "Result: [5, 6, 7, 11, 12, 13]\n"
     ]
    }
   ],
   "source": [
    "results([12, 11, 13, 5, 6, 7], merge_sort)"
   ]
  },
  {
   "cell_type": "markdown",
   "metadata": {},
   "source": [
    "# Heap Sort"
   ]
  },
  {
   "cell_type": "code",
   "execution_count": null,
   "metadata": {},
   "outputs": [],
   "source": []
  },
  {
   "cell_type": "markdown",
   "metadata": {},
   "source": [
    "# Radix Sort"
   ]
  },
  {
   "cell_type": "code",
   "execution_count": null,
   "metadata": {},
   "outputs": [],
   "source": []
  }
 ],
 "metadata": {
  "kernelspec": {
   "display_name": "Python 3",
   "language": "python",
   "name": "python3"
  },
  "language_info": {
   "codemirror_mode": {
    "name": "ipython",
    "version": 3
   },
   "file_extension": ".py",
   "mimetype": "text/x-python",
   "name": "python",
   "nbconvert_exporter": "python",
   "pygments_lexer": "ipython3",
   "version": "3.8.5"
  }
 },
 "nbformat": 4,
 "nbformat_minor": 4
}
