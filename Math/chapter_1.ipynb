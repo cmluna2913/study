{
 "cells": [
  {
   "cell_type": "markdown",
   "metadata": {},
   "source": [
    "Sample Space <br>\n",
    "Collection of all possible outcomes, denoted by $S$.\n",
    "\n",
    "Event $A$ <br>\n",
    "$A$ is a subset of the sample space, $A\\subset S$. $Desired Outcomes/Total Outcomes$.\n",
    "\n",
    "Mutually Exclusive Events (Disjoint) <br>\n",
    "$A_1,A_2,...,A_k$ are mutually exclusive events if $A_i \\bigcap A_j = \\varnothing, i \\neq j$.\n",
    "That is, $A_1,A_2,...,A_k$ are disjoint sets.\n",
    "\n",
    "Exhaustive Events <br>\n",
    "$A_1,A_2,...,A_k$ are exhaustive events if $A_1 \\bigcup A_2 \\bigcup ... \\bigcup A_k = S$\n",
    "\n",
    "Commutative Laws <br>\n",
    "$A \\bigcup B = B \\bigcup A$\n",
    "\n",
    "Probability of an event ($P(A)$) <br>\n",
    "If $n_a$ is the number of occurrence of an event $A$ in $n$ trials, then if $\\lim\\limits_{n\\to\\inf}\\frac{n_a}{n}=p$, we say p is the probability of $A$, denoted as $P(A)$. <br>\n",
    "Probability is a real-valued function $P$ that assigns, to each event $A$ in the sample space $S$, a number $P(A)$ such that the following properties are satisfied: <br>\n",
    "1. $P(A)\\geq0$\n",
    "2. $P(S)=1\n",
    "3. If $A_1, A_2, ...$ are mutually exclusive (i.e. $A_i \\bigcap A_j=\\varnothing, i \\not= j$), then $P(A_1 \\bigcup A_2 \\bigcup ...) = P(A_1) + P(A_2) + ...$\n",
    "\n",
    "Theorem 1 <br>\n",
    "$P(A) = 1 - P(A')$\n",
    "\n",
    "Theorem 2 <br>\n",
    "$P(\\varnothing)=0$\n",
    "\n",
    "Theorem 3 <br>\n",
    "If $A \\subset B$, then $P(A) \\leq P(B)$\n",
    "\n",
    "Theorem 4 <br>\n",
    "$P(A) \\leq 1$\n",
    "\n",
    "Theorem 5 <br>\n",
    "If $A$ and $B$ are any two events, then $P(A \\bigcup B) = P(A) + P(B) - P(A \\bigcap B)$\n",
    "\n",
    "Theorem 6 <br>\n",
    "if $A$, $B$, and $C$ are any three events, then <br> $P(A \\bigcup B \\bigcup C) = \n",
    "P(A) + P(B) + P(C) - P(A \\bigcap B) - P(A \\bigcap C) - P(B \\bigcap C) + P(A \\bigcap B \\bigcap C)$\n",
    "\n",
    "Permutation ($nPr$)<br>\n",
    "Ordered arrangement of $n$ objects taken $r$ at a time\n",
    "\n",
    "Combination ($nCr = \\binom{n}{c}$)\n",
    "Unordered arrangement of $n$ objects taken $r$ at a time"
   ]
  },
  {
   "cell_type": "markdown",
   "metadata": {},
   "source": []
  }
 ],
 "metadata": {
  "kernelspec": {
   "display_name": "Python 3.10.4 ('updated')",
   "language": "python",
   "name": "python3"
  },
  "language_info": {
   "name": "python",
   "version": "3.10.4"
  },
  "orig_nbformat": 4,
  "vscode": {
   "interpreter": {
    "hash": "60c31c2418e11a1ea5e74811c13c7cd65159d5f4bb1d07ff0084657bded7dcb8"
   }
  }
 },
 "nbformat": 4,
 "nbformat_minor": 2
}
