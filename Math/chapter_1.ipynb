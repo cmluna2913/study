{
 "cells": [
  {
   "cell_type": "markdown",
   "metadata": {},
   "source": [
    "Sample Space <br>\n",
    "Collection of all possible outcomes, denoted by $S$.\n",
    "\n",
    "Event $A$ <br>\n",
    "$A$ is a subset of the sample space, $A\\subset S$. $Desired Outcomes/Total Outcomes$.\n",
    "\n",
    "Mutually Exclusive Events (Disjoint) <br>\n",
    "$A_1,A_2,...,A_k$ are mutually exclusive events if $A_i \\bigcap A_j = \\varnothing, i \\neq j$.\n",
    "That is, $A_1,A_2,...,A_k$ are disjoint sets.\n",
    "\n",
    "Exhaustive Events <br>\n",
    "$A_1,A_2,...,A_k$ are exhaustive events if $A_1 \\bigcup A_2 \\bigcup ... \\bigcup A_k = S$\n",
    "\n",
    "Commutative Laws <br>\n",
    "$A \\bigcup B = B \\bigcup A$"
   ]
  },
  {
   "cell_type": "markdown",
   "metadata": {},
   "source": []
  }
 ],
 "metadata": {
  "language_info": {
   "name": "python"
  },
  "orig_nbformat": 4
 },
 "nbformat": 4,
 "nbformat_minor": 2
}
